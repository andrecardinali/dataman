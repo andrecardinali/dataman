{
 "cells": [
  {
   "cell_type": "code",
   "execution_count": null,
   "id": "160e759b",
   "metadata": {},
   "outputs": [],
   "source": [
    "from selenium import webdriver\n",
    "from selenium.webdriver.common.by import By\n",
    "from selenium.webdriver.support.ui import WebDriverWait\n",
    "from selenium.webdriver.support import expected_conditions as EC\n",
    "import time\n",
    "import pandas as pd"
   ]
  },
  {
   "cell_type": "code",
   "execution_count": null,
   "id": "24f6af79",
   "metadata": {
    "scrolled": false
   },
   "outputs": [],
   "source": [
    "chrome_options = webdriver.ChromeOptions()\n",
    "chrome_options.add_argument(\"--disable-notifications\")\n",
    "\n",
    "driver = webdriver.Chrome(options=chrome_options)\n",
    "\n",
    "try:\n",
    "    driver.get('https://www.giallozafferano.it/ricette-cat/')\n",
    "\n",
    "    # Attendimo l'eventuale popup dei cookie\n",
    "    try:\n",
    "        cookie_button = WebDriverWait(driver, 3).until(\n",
    "            EC.element_to_be_clickable((By.XPATH, \"//button[text()='Continua senza accettare']\"))\n",
    "        )\n",
    "        cookie_button.click()\n",
    "    except:\n",
    "        print(\"Nessun popup dei cookie trovato.\")\n",
    "\n",
    "    tutte_ricette = []\n",
    "\n",
    "    while True:\n",
    "        # Scorre la pagina verso il basso gradualmente per assicurare che tutti gli articoli siano visibili\n",
    "        last_height = driver.execute_script(\"return document.body.scrollHeight\")\n",
    "        while True:\n",
    "            driver.execute_script(\"window.scrollTo(0, document.body.scrollHeight);\")\n",
    "            time.sleep(2)\n",
    "            new_height = driver.execute_script(\"return document.body.scrollHeight\")\n",
    "            if new_height == last_height:\n",
    "                break\n",
    "            last_height = new_height\n",
    "\n",
    "        # Trova tutti gli articoli delle ricette\n",
    "        articoli = driver.find_elements(By.CLASS_NAME, 'gz-card')\n",
    "\n",
    "        # Itera attraverso ogni articolo per estrarre nome, categoria e ingredienti\n",
    "        for i in range(len(articoli)):\n",
    "            # Ricarica la pagina principale e trova di nuovo tutti gli articoli\n",
    "            articoli = driver.find_elements(By.CLASS_NAME, 'gz-card')\n",
    "\n",
    "            try:\n",
    "                # Estrai il titolo e la categoria dell'articolo corrente\n",
    "                titolo = articoli[i].find_element(By.CLASS_NAME, 'gz-title').text\n",
    "                categoria = articoli[i].find_element(By.CLASS_NAME, 'gz-category').text\n",
    "\n",
    "                # Trova il link della ricetta usando XPath e naviga a quella pagina\n",
    "                link_ricetta = articoli[i].find_element(By.XPATH, \".//a[@title]\").get_attribute('href')\n",
    "                if link_ricetta is not None:\n",
    "                    driver.get(link_ricetta)\n",
    "\n",
    "                # Attendi che la pagina degli ingredienti si carichi\n",
    "                wait = WebDriverWait(driver, 2)\n",
    "                wait.until(EC.presence_of_element_located((By.CLASS_NAME, 'gz-ingredients')))\n",
    "\n",
    "                # Trova tutti gli elementi degli ingredienti\n",
    "                ingredienti_section = driver.find_element(By.CLASS_NAME, 'gz-ingredients')\n",
    "                ingredienti_list = ingredienti_section.find_elements(By.CLASS_NAME, 'gz-ingredient')\n",
    "\n",
    "                # Estrai il testo degli ingredienti\n",
    "                ingredienti_lista = [ingrediente.text for ingrediente in ingredienti_list]\n",
    "\n",
    "                # Salva il titolo, la categoria e gli ingredienti\n",
    "                tutte_ricette.append({'titolo': titolo, 'categoria': categoria, 'ingredienti': ingredienti_lista})\n",
    "                driver.back()\n",
    "                time.sleep(3)\n",
    "            except Exception as e:\n",
    "                print(f\"Errore nell'elaborazione di un articolo: {e}\")\n",
    "\n",
    "        # Trova il pulsante \"Pagina successiva\" e cliccalo se esiste, altrimenti esci dal ciclo\n",
    "        try:\n",
    "            next_button = WebDriverWait(driver, 2).until(\n",
    "                EC.element_to_be_clickable((By.CLASS_NAME, 'gz-arrow.next'))\n",
    "            )\n",
    "            next_button.click()\n",
    "            time.sleep(2)\n",
    "        except:\n",
    "            print(\"Non ci sono più pagine da processare.\")\n",
    "            break\n",
    "    for ricetta in tutte_ricette:\n",
    "        ricetta['ingredienti'] = [ingrediente.replace(\"Olio extravergine d'oliva\", \"Olio extravergine di oliva\") for ingrediente in ricetta['ingredienti']]\n",
    "\n",
    "except Exception as e:\n",
    "    print(f\"Si è verificato un errore: {e}\")\n",
    "finally:\n",
    "    driver.quit()\n",
    "\n",
    "ricette = pd.DataFrame(tutte_ricette)"
   ]
  },
  {
   "cell_type": "markdown",
   "id": "3772f130",
   "metadata": {},
   "source": [
    "# Prove"
   ]
  },
  {
   "cell_type": "code",
   "execution_count": null,
   "id": "9a2249c4",
   "metadata": {},
   "outputs": [],
   "source": [
    "def parse_ingredient(ingredient):\n",
    "    parts = ingredient.split()\n",
    "    if len(parts) > 2 and (parts[-2].isdigit() and parts[-1] in ['g', 'ml', 'l', 'kg', 'cl']):\n",
    "        quantity = ' '.join(parts[-2:])\n",
    "        name = ' '.join(parts[:-2])\n",
    "    else:\n",
    "        quantity = parts[-1]\n",
    "        name = ' '.join(parts[:-1])\n",
    "    return name, quantity\n",
    "\n",
    "def convert_ingredient_list_to_dict(ingredient_list):\n",
    "    ingredient_dict = {}\n",
    "    for ingredient in ingredient_list:\n",
    "        name, quantity = parse_ingredient(ingredient)\n",
    "        ingredient_dict[name] = quantity\n",
    "    return ingredient_dict\n",
    "\n",
    "# Rimuovere le parentesi quadre e i singoli apici dalle stringhe, assicurandosi che i valori siano stringhe\n",
    "\n",
    "ricette['ingredienti'].str.replace(\" ' \", \"i \", regex=False)\n",
    "ricette['ingredienti'] = ricette['ingredienti'].astype(str).str.strip(\"[]\").str.replace(\"'\", \"\")\n",
    "\n",
    "# Convertire la stringa di ingredienti in una lista\n",
    "ricette['ingredienti'] = ricette['ingredienti'].apply(lambda x: x.split(\", \"))\n",
    "\n",
    "# Convertire la lista di ingredienti in un dizionario\n",
    "ricette['ingredienti_dict'] = ricette['ingredienti'].apply(convert_ingredient_list_to_dict)\n",
    "\n",
    "# Visualizzare le prime righe del DataFrame aggiornato\n",
    "#ricette.drop('ingredienti', axis=1, inplace=True)\n",
    "ricette.head()"
   ]
  },
  {
   "cell_type": "code",
   "execution_count": null,
   "id": "56332a6f",
   "metadata": {},
   "outputs": [],
   "source": [
    "import re\n",
    "\n",
    "def separa_nome_quantita(ingrediente):\n",
    "    pattern = re.compile(r'^(.*?)(\\d+\\s*[a-zA-Z]+)$')\n",
    "    match = pattern.match(ingrediente)\n",
    "    if match:\n",
    "        nome = match.group(1).strip()\n",
    "        quantita = match.group(2).strip()\n",
    "        return nome, quantita\n",
    "    else:\n",
    "        return ingrediente, ''"
   ]
  },
  {
   "cell_type": "code",
   "execution_count": null,
   "id": "f7ffa321",
   "metadata": {},
   "outputs": [],
   "source": [
    "ricette.drop('ingredienti', axis=1, inplace=True)"
   ]
  },
  {
   "cell_type": "code",
   "execution_count": null,
   "id": "7a4cecf3",
   "metadata": {},
   "outputs": [],
   "source": [
    "ricette.to_csv('Ricette.csv', sep=',', index=False, encoding='utf-8')"
   ]
  },
  {
   "cell_type": "code",
   "execution_count": null,
   "id": "fa60273e",
   "metadata": {},
   "outputs": [],
   "source": [
    "ricette.to_json('Ricette.json', orient='records', lines=True)"
   ]
  },
  {
   "cell_type": "code",
   "execution_count": null,
   "id": "713f68c5",
   "metadata": {},
   "outputs": [],
   "source": [
    "pd.read_json('ricette.json', lines=True)"
   ]
  }
 ],
 "metadata": {
  "kernelspec": {
   "display_name": "Python 3 (ipykernel)",
   "language": "python",
   "name": "python3"
  },
  "language_info": {
   "codemirror_mode": {
    "name": "ipython",
    "version": 3
   },
   "file_extension": ".py",
   "mimetype": "text/x-python",
   "name": "python",
   "nbconvert_exporter": "python",
   "pygments_lexer": "ipython3",
   "version": "3.12.2"
  }
 },
 "nbformat": 4,
 "nbformat_minor": 5
}
